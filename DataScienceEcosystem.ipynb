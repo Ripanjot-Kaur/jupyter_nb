{
  "metadata": {
    "kernelspec": {
      "name": "python",
      "display_name": "Python (Pyodide)",
      "language": "python"
    },
    "language_info": {
      "codemirror_mode": {
        "name": "python",
        "version": 3
      },
      "file_extension": ".py",
      "mimetype": "text/x-python",
      "name": "python",
      "nbconvert_exporter": "python",
      "pygments_lexer": "ipython3",
      "version": "3.8"
    }
  },
  "nbformat_minor": 5,
  "nbformat": 4,
  "cells": [
    {
      "id": "d986be20-5d83-44d6-ab40-daa7b065c82d",
      "cell_type": "markdown",
      "source": "# Data Science Tools and Ecosystem",
      "metadata": {}
    },
    {
      "id": "c675d53c-95c8-478f-9975-fe19b579d94f",
      "cell_type": "markdown",
      "source": "### In this notebook, Data Science Tools and Ecosystem are summarized.",
      "metadata": {}
    },
    {
      "id": "e5594c12-3f5c-4fdc-ae41-8a13bf494173",
      "cell_type": "markdown",
      "source": "**Objectives:**\n\n- Listing popular languages of Data Science.\n- Identifying commonly used libraries in Data Science.\n- Demonstrating examples of evaluating arithmetic expressions in Python.\n- Converting minutes to hours using Python expressions.\n- Exploring open-source tools used in Data Science.",
      "metadata": {}
    },
    {
      "id": "d7faf767-99c5-4b69-ae4d-e52db2d3859f",
      "cell_type": "markdown",
      "source": "Some of the popular languages that Data Scientists use are:\n\n1. Python\n2. R\n3. SQL\n4. Julia",
      "metadata": {}
    },
    {
      "id": "300be636-370b-470a-9ade-8a11cb9c8bae",
      "cell_type": "markdown",
      "source": "Some of the commonly used libraries used by Data Scientists include:\n\n1. Pandas\n2. NumPy\n3. Matplotlib\n4. Scikit-learn",
      "metadata": {}
    },
    {
      "id": "ed3e57e0-2832-4ae1-a6fd-d0e58c9dda7f",
      "cell_type": "markdown",
      "source": "\n| Data Science Tools       |\n|--------------------------|\n| Jupyter Notebook         |\n| RStudio                  |\n| Anaconda Navigator       |\n| VS code with python      |",
      "metadata": {}
    },
    {
      "id": "918f0c66-d262-4644-8001-830fb46f87b3",
      "cell_type": "markdown",
      "source": "### Below are a few examples of evaluating arithmetic expressions in Python.",
      "metadata": {}
    },
    {
      "id": "4fd884ae-291f-47d5-9826-b4a4959eb4b8",
      "cell_type": "markdown",
      "source": "##### This is a simple arithmetic expression to multiply then add integers",
      "metadata": {}
    },
    {
      "id": "29dbe1af-9731-46ee-96e4-dd15d5185041",
      "cell_type": "code",
      "source": "(3 * 4) + 5",
      "metadata": {
        "trusted": true
      },
      "outputs": [
        {
          "execution_count": 8,
          "output_type": "execute_result",
          "data": {
            "text/plain": "17"
          },
          "metadata": {}
        }
      ],
      "execution_count": 8
    },
    {
      "id": "a74e49e7-59f9-4aa1-a7f0-e35611fc405d",
      "cell_type": "markdown",
      "source": "##### This will convert 200 minutes to hours by diving by 60",
      "metadata": {}
    },
    {
      "id": "29e04041-366e-4631-ab1b-716527775a52",
      "cell_type": "code",
      "source": "200/60",
      "metadata": {
        "trusted": true
      },
      "outputs": [
        {
          "execution_count": 9,
          "output_type": "execute_result",
          "data": {
            "text/plain": "3.3333333333333335"
          },
          "metadata": {}
        }
      ],
      "execution_count": 9
    },
    {
      "id": "d2447b59-8c77-4312-a221-a2842d2f9a28",
      "cell_type": "markdown",
      "source": "## Author\n\nRipanjot Kaur",
      "metadata": {}
    },
    {
      "id": "44e184cc-7d57-49f0-9ba1-02228529e8a3",
      "cell_type": "code",
      "source": "",
      "metadata": {
        "trusted": true
      },
      "outputs": [],
      "execution_count": null
    }
  ]
}